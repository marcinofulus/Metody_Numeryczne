{
 "cells": [
  {
   "cell_type": "markdown",
   "metadata": {},
   "source": [
    "### A. Zadania ćwiczące język python:\n",
    "\n",
    "1. Z dwóch list o tej samej długości zrobić listę par kolejnych elementów.\n",
    "2. Z listy par [(x1,y1),(x2,y2),....,(x_n,y_n)] zrobić listę o dlugości 2n zawierającą pary po kolei [x1,y1,x2,y2,....].\n",
    "3. Mająć listę 9-ciu elementów L, zrobić z niej macierz 3x3 $M$ tak by $M_{ij} = L[3i+j]$, dla $i,j=0,1,2$.  "
   ]
  },
  {
   "cell_type": "markdown",
   "metadata": {},
   "source": [
    "### B. Zadania z podstaw algorytmów.\n",
    "\n",
    "0. Podaj algorytm wyliczający część wspólną dwóch zadanych prostokątów o bokach równoległych do osi układu współrzędnych. Napisz procedurę rysującą oba prostokąty oraz procedurę generującą losowe dane wejściowe.\n",
    "\n",
    "0. Podaj algorytm wyliczający najmniejszy prostokąt o bokach równoległych do osi układu współrzędnych, zawierający dwa zadane prostokąty o bokach równoległych do osi układu współrzędnych. Napisz procedurę rysującą oba prostokąty oraz procedurę generującą losowe dane wejściowe.\n",
    "\n",
    "0. Sprawdź, czy dwa odcinki na płaszczyźnie zadane porzez współrzędne końców przecinają się. Napisz procedurę rysującą oba odcinki oraz procedurę generującą losowe dane wejściowe.\n",
    "\n",
    "0. Sprawdź, czy dane dwa równoległoboki na płaszczyźnie przecinają się. Równoległoboki mają boki dowolnie nachylone do osi współrzędnych i zadane są poprzez współrzędne czterech rogów podanych zgodnie z ruchem wskazówek zegara. Napisz procedurę rysującą oba równoległoboki oraz procedurę generującą losowe dane wejściowe.\n",
    "\n",
    "0. Dana jest lista liczb całkowitych. Należy tak poprzestawiać w niej elementy, żeby najpierw były elementy ujemne, potem równe zero, a na końcu dodatnie. Napisz procedurę testującą algorytm na losowych danych.\n",
    "\n",
    "0. Napisz program znajdujący w zadanej liście liczb całkowitych, długość najdłuższego stałego segmentu (spójnego fragmentu tablicy). Napisz procedurę testującą algorytm na losowych danych.\n",
    "\n",
    "0. Napisz program znajdujący w zadanej liście liczb całkowitych, maksymalną sumę segmentu (spójnego fragmentu listy). Przyjmujemy, że segment pusty ma sumę 0. Napisz procedurę testującą algorytm na losowych danych.\n",
    "\n",
    "0. Dane są dwie listy A i B liczb całkowitych. Obie są posortowane rosnąco. Należy traktując A i B jako reprezentacje dwóch zbiorów wypisać (operacją print) część wspólną tych zbiorów. Napisz procedurę testującą algorytm na losowych danych.\n",
    "\n",
    "0. Dane są dwie listy A i B liczb całkowitych. Obie są posortowane rosnąco. Należy traktując A i B jako reprezentacje dwu zbiorów wypisać (operacją print) sumę tych zbiorów. Napisz procedurę testującą algorytm na losowych danych.\n",
    "\n",
    "0. Dane są dwie listy A i B liczb całkowitych o długościach N i M > 0. Napisz program sprawdzający, czy A jest podciągiem B (tzn. czy istnieje funkcja f, rosnąca, z 1..N w 1..M, t. ze A[i]=B[f(i)]). Napisz procedurę testującą algorytm na losowych danych.\n",
    "\n",
    "0. Dana lista A liczb całkowitych o co najmniej dwóch elementach. Napisz program odwracający kolejność elementów w A. Napisz procedurę testującą algorytm na losowych danych.\n",
    "\n",
    "0. Dana lista A liczb całkowitych i liczba naturalna k > 1. Napisz program realizujący przesunięcie cykliczne w prawo o k pól, czyli przesuwający zawartość pola A[i] na A[(i+k) mod N] dla każdego i < N. Napisz procedurę testującą algorytm na losowych danych.\n",
    "\n",
    "0. Dana jest lista A liczb całkowitych. Sprawdź, czy jest w niej element wystepujący więcej niż N/2 razy i jeśli tak - wskaż go. Napisz procedurę testującą algorytm na losowych danych.\n"
   ]
  },
  {
   "cell_type": "code",
   "execution_count": null,
   "metadata": {
    "collapsed": true
   },
   "outputs": [],
   "source": []
  }
 ],
 "metadata": {
  "kernelspec": {
   "display_name": "SageMath 7.3",
   "language": "",
   "name": "sagemath"
  },
  "language_info": {
   "codemirror_mode": {
    "name": "ipython",
    "version": 2
   },
   "file_extension": ".py",
   "mimetype": "text/x-python",
   "name": "python",
   "nbconvert_exporter": "python",
   "pygments_lexer": "ipython2",
   "version": "2.7.10"
  }
 },
 "nbformat": 4,
 "nbformat_minor": 1
}
