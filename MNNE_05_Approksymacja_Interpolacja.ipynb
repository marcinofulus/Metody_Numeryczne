{
 "cells": [
  {
   "cell_type": "markdown",
   "metadata": {},
   "source": [
    "## Metoda najmniejszych kwadratów, aproksymacja wielomianowa\n",
    "###  Aproksymacja wielomianowa\n",
    "\n",
    "Cel:\n",
    "\n",
    " - Zastosowanie algebry liniowej do prostego przypadku aproksymacji funkcji wielomianami $x^n$.\n",
    " - Sage: Wykorzystanie technik operacji na macierzach i danych.\n",
    "\n",
    "Mamy dane punkty $(x_1,y_1),\\dots,(x_n,y_n)$. Szukamy wielomianu stopnia $n-1$ przechodzącego przez te punkty.\n",
    "\n",
    " - $c_i$ to współczynniki wielomianu</li>\n"
   ]
  },
  {
   "cell_type": "code",
   "execution_count": 2,
   "metadata": {
    "collapsed": false
   },
   "outputs": [
    {
     "data": {
      "text/html": [
       "<div class=\"notruncate\">\n",
       "<table  class=\"table_form\">\n",
       "<tbody>\n",
       "<tr>\n",
       "<th>macierz ukladu liniowego: <script type=\"math/tex\">A</script> </th>\n",
       "<th><script type=\"math/tex\">\\cdot</script></th>\n",
       "<th><script type=\"math/tex\">c</script></th>\n",
       "<th><script type=\"math/tex\">= b</script></th>\n",
       "</tr>\n",
       "<tr class =\"row-a\">\n",
       "<td><script type=\"math/tex\">\\left(\\begin{array}{rrrr}\n",
       "1 & x_{1} & x_{1}^{2} & x_{1}^{3} \\\\\n",
       "1 & x_{2} & x_{2}^{2} & x_{2}^{3} \\\\\n",
       "1 & x_{3} & x_{3}^{2} & x_{3}^{3} \\\\\n",
       "1 & x_{4} & x_{4}^{2} & x_{4}^{3}\n",
       "\\end{array}\\right)</script></td>\n",
       "<td><script type=\"math/tex\">\\cdot</script></td>\n",
       "<td><script type=\"math/tex\">\\left(\\begin{array}{r}\n",
       "c_{1} \\\\\n",
       "c_{2} \\\\\n",
       "c_{3} \\\\\n",
       "c_{4}\n",
       "\\end{array}\\right)</script></td>\n",
       "<td><script type=\"math/tex\">\\left(\\begin{array}{r}\n",
       "y_{1} \\\\\n",
       "y_{2} \\\\\n",
       "y_{3} \\\\\n",
       "y_{4}\n",
       "\\end{array}\\right)</script></td>\n",
       "</tr>\n",
       "</tbody>\n",
       "</table>\n",
       "</div>"
      ],
      "text/plain": [
       "  macierz ukladu liniowego: $A$                                                             $\\cdot$   $c$                   $= b$\n",
       "+-----------------------------------------------------------------------------------------+---------+---------------------+---------------------+\n",
       "  [   1   x1 x1^2 x1^3]\n",
       "[   1   x2 x2^2 x2^3]\n",
       "[   1   x3 x3^2 x3^3]\n",
       "[   1   x4 x4^2 x4^3]   $\\cdot$   [c1]\n",
       "[c2]\n",
       "[c3]\n",
       "[c4]   [y1]\n",
       "[y2]\n",
       "[y3]\n",
       "[y4]"
      ]
     },
     "execution_count": 2,
     "metadata": {},
     "output_type": "execute_result"
    }
   ],
   "source": [
    "var('x')\n",
    "xs=[]\n",
    "ys=[]\n",
    "cs=[]\n",
    "n_pkts = 4\n",
    "for i in range(1,n_pkts+1):\n",
    "    xs.append(var('x%d' % i))\n",
    "    ys.append(var('y%d' % i))\n",
    "    cs.append(var('c%d' % i))\n",
    "X=vector([x^i for i in range(n_pkts)]    )\n",
    "A=(matrix([ X.subs(x==xx) for xx in xs] ))\n",
    "b=(vector(ys).column())\n",
    "c=(vector(cs).column())\n",
    "table([[\"macierz ukladu liniowego: $A$ \",\"$\\cdot$\",\"$c$\",\"$= b$\"],[A,\"$\\cdot$\",c,b]],header_row=True)"
   ]
  },
  {
   "cell_type": "code",
   "execution_count": null,
   "metadata": {
    "collapsed": false
   },
   "outputs": [],
   "source": []
  },
  {
   "cell_type": "markdown",
   "metadata": {},
   "source": [
    "<p>Bierzemy konkretne punkty:</p>"
   ]
  },
  {
   "cell_type": "code",
   "execution_count": 3,
   "metadata": {
    "collapsed": false
   },
   "outputs": [],
   "source": [
    "points=[ [(i/pi/3.0).n(),1+0.01*sin(i/pi/3.0).n()] for i in range(13)]"
   ]
  },
  {
   "cell_type": "code",
   "execution_count": 4,
   "metadata": {
    "collapsed": false
   },
   "outputs": [
    {
     "data": {
      "text/plain": [
       "[[1, 1], [2, 2], [3, 4]]"
      ]
     },
     "execution_count": 4,
     "metadata": {},
     "output_type": "execute_result"
    }
   ],
   "source": [
    "points=[[1,1],[2,2],[3,4]]\n",
    "points"
   ]
  },
  {
   "cell_type": "code",
   "execution_count": 5,
   "metadata": {
    "collapsed": false
   },
   "outputs": [
    {
     "data": {
      "text/html": [
       "<div class=\"notruncate\">\n",
       "<table  class=\"table_form\">\n",
       "<tbody>\n",
       "<tr>\n",
       "<th>x</th>\n",
       "<th>y</th>\n",
       "</tr>\n",
       "<tr class =\"row-a\">\n",
       "<td><script type=\"math/tex\">1</script></td>\n",
       "<td><script type=\"math/tex\">1</script></td>\n",
       "</tr>\n",
       "<tr class =\"row-b\">\n",
       "<td><script type=\"math/tex\">2</script></td>\n",
       "<td><script type=\"math/tex\">2</script></td>\n",
       "</tr>\n",
       "<tr class =\"row-a\">\n",
       "<td><script type=\"math/tex\">3</script></td>\n",
       "<td><script type=\"math/tex\">4</script></td>\n",
       "</tr>\n",
       "</tbody>\n",
       "</table>\n",
       "</div>"
      ],
      "text/plain": [
       "  x   y\n",
       "+---+---+\n",
       "  1   1\n",
       "  2   2\n",
       "  3   4"
      ]
     },
     "metadata": {},
     "output_type": "display_data"
    },
    {
     "data": {
      "image/png": "[encoded data removed]",
      "text/plain": [
       "Graphics object consisting of 1 graphics primitive"
      ]
     },
     "metadata": {},
     "output_type": "display_data"
    }
   ],
   "source": [
    "show(table(  [[\"x\",\"y\"]]+points, header_row=True))\n",
    "pkt_plt=point(points,size=30)\n",
    "show(pkt_plt,figsize=4)"
   ]
  },
  {
   "cell_type": "code",
   "execution_count": 6,
   "metadata": {
    "collapsed": false
   },
   "outputs": [],
   "source": [
    "Alst=[]\n",
    "blst=[]\n",
    "Xlst=[]\n",
    "for k in range(len(points)):\n",
    "    mk=[]\n",
    "    for j in range(len(points)):\n",
    "        mk+=[points[k][0]^j]\n",
    "    Alst+=[mk]\n",
    "    blst+=[points[k][1]]\n",
    "    Xlst+=[x^k]"
   ]
  },
  {
   "cell_type": "code",
   "execution_count": 7,
   "metadata": {
    "collapsed": false
   },
   "outputs": [
    {
     "data": {
      "text/plain": [
       "[[1, 1], [2, 2], [3, 4]]"
      ]
     },
     "execution_count": 7,
     "metadata": {},
     "output_type": "execute_result"
    }
   ],
   "source": [
    "points"
   ]
  },
  {
   "cell_type": "code",
   "execution_count": 8,
   "metadata": {
    "collapsed": false
   },
   "outputs": [
    {
     "data": {
      "text/html": [
       "<html><script type=\"math/tex; mode=display\">\\newcommand{\\Bold}[1]{\\mathbf{#1}}\\left(\\begin{array}{rrr}\n",
       "1 & 1 & 1 \\\\\n",
       "1 & 2 & 4 \\\\\n",
       "1 & 3 & 9\n",
       "\\end{array}\\right)</script></html>"
      ],
      "text/plain": [
       "[1 1 1]\n",
       "[1 2 4]\n",
       "[1 3 9]"
      ]
     },
     "metadata": {},
     "output_type": "display_data"
    }
   ],
   "source": [
    "N = len(points)\n",
    "A = matrix( [[ x_^i for i in range(N)] for x_,y_ in points] )\n",
    "show(A)"
   ]
  },
  {
   "cell_type": "code",
   "execution_count": 9,
   "metadata": {
    "collapsed": false
   },
   "outputs": [
    {
     "data": {
      "text/plain": [
       "[1, 2, 4]"
      ]
     },
     "execution_count": 9,
     "metadata": {},
     "output_type": "execute_result"
    }
   ],
   "source": [
    "[y_ for x_,y_ in points]"
   ]
  },
  {
   "cell_type": "code",
   "execution_count": 10,
   "metadata": {
    "collapsed": false
   },
   "outputs": [],
   "source": [
    "A = matrix(RDF,Alst)\n",
    "b = vector(blst)\n",
    "X = vector(Xlst)"
   ]
  },
  {
   "cell_type": "code",
   "execution_count": null,
   "metadata": {
    "collapsed": false
   },
   "outputs": [],
   "source": []
  },
  {
   "cell_type": "markdown",
   "metadata": {},
   "source": [
    "<p>Rozwiązujemy na $c_i$:</p>"
   ]
  },
  {
   "cell_type": "code",
   "execution_count": 11,
   "metadata": {
    "collapsed": false
   },
   "outputs": [],
   "source": [
    "c=A\\b"
   ]
  },
  {
   "cell_type": "code",
   "execution_count": 12,
   "metadata": {
    "collapsed": false
   },
   "outputs": [
    {
     "data": {
      "text/html": [
       "<div class=\"notruncate\">\n",
       "<table  class=\"table_form\">\n",
       "<tbody>\n",
       "<tr>\n",
       "<th>macierz ukladu liniowego:  <script type=\"math/tex\">A</script></th>\n",
       "<th><script type=\"math/tex\">\\cdot</script></th>\n",
       "<th><script type=\"math/tex\">c</script></th>\n",
       "<th><script type=\"math/tex\">= b</script></th>\n",
       "</tr>\n",
       "<tr class =\"row-a\">\n",
       "<td><script type=\"math/tex\">\\left(\\begin{array}{rrr}\n",
       "1.0 & 1.0 & 1.0 \\\\\n",
       "1.0 & 2.0 & 4.0 \\\\\n",
       "1.0 & 3.0 & 9.0\n",
       "\\end{array}\\right)</script></td>\n",
       "<td><script type=\"math/tex\">\\cdot</script></td>\n",
       "<td><script type=\"math/tex\">\\left(1.0,\\,-0.5,\\,0.5\\right)</script></td>\n",
       "<td><script type=\"math/tex\">\\left(1,\\,2,\\,4\\right)</script></td>\n",
       "</tr>\n",
       "</tbody>\n",
       "</table>\n",
       "</div>"
      ],
      "text/plain": [
       "  macierz ukladu liniowego:  $A$              $\\cdot$   $c$                $= b$\n",
       "+-------------------------------------------+---------+------------------+-----------+\n",
       "  [1.0 1.0 1.0]\n",
       "[1.0 2.0 4.0]\n",
       "[1.0 3.0 9.0]   $\\cdot$   (1.0, -0.5, 0.5)   (1, 2, 4)"
      ]
     },
     "execution_count": 12,
     "metadata": {},
     "output_type": "execute_result"
    }
   ],
   "source": [
    "table([[\"macierz ukladu liniowego:  $A$\",\"$\\cdot$\",\"$c$\",\"$= b$\"],[A,\"$\\cdot$\",c,b]],header_row=True)"
   ]
  },
  {
   "cell_type": "code",
   "execution_count": 13,
   "metadata": {
    "collapsed": false
   },
   "outputs": [
    {
     "data": {
      "text/plain": [
       "(1, x, x^2)"
      ]
     },
     "execution_count": 13,
     "metadata": {},
     "output_type": "execute_result"
    }
   ],
   "source": [
    "X"
   ]
  },
  {
   "cell_type": "code",
   "execution_count": 14,
   "metadata": {
    "collapsed": false
   },
   "outputs": [
    {
     "data": {
      "text/html": [
       "<html><script type=\"math/tex; mode=display\">\\newcommand{\\Bold}[1]{\\mathbf{#1}}0.5 \\, x^{2} - 0.5 \\, x + 1.0</script></html>"
      ],
      "text/plain": [
       "0.5*x^2 - 0.5*x + 1.0"
      ]
     },
     "metadata": {},
     "output_type": "display_data"
    },
    {
     "data": {
      "image/png": "[encoded data removed]",
      "text/plain": [
       "Graphics object consisting of 2 graphics primitives"
      ]
     },
     "execution_count": 14,
     "metadata": {},
     "output_type": "execute_result"
    }
   ],
   "source": [
    "wielomian= c.dot_product(X)\n",
    "show(wielomian)\n",
    "plot(wielomian,(-.5,3.5),color='red',figsize=4)+pkt_plt"
   ]
  },
  {
   "cell_type": "code",
   "execution_count": 15,
   "metadata": {
    "collapsed": false
   },
   "outputs": [
    {
     "data": {
      "image/png": "[encoded data removed]",
      "text/plain": [
       "Graphics object consisting of 2 graphics primitives"
      ]
     },
     "execution_count": 15,
     "metadata": {},
     "output_type": "execute_result"
    }
   ],
   "source": [
    "def pol(x,C):\n",
    "    wartosc=0\n",
    "    for i,c in enumerate(C):\n",
    "        wartosc+=x^i*c\n",
    "    return wartosc\n",
    "plot(lambda x:pol(x,c),(x,-1,3),color='red',figsize=4)+pkt_plt"
   ]
  },
  {
   "cell_type": "code",
   "execution_count": null,
   "metadata": {
    "collapsed": false
   },
   "outputs": [],
   "source": []
  },
  {
   "cell_type": "code",
   "execution_count": 16,
   "metadata": {
    "collapsed": false
   },
   "outputs": [
    {
     "data": {
      "image/png": "[encoded data removed]",
      "text/plain": [
       "Graphics object consisting of 3 graphics primitives"
      ]
     },
     "metadata": {},
     "output_type": "display_data"
    }
   ],
   "source": [
    "var('x')\n",
    "n=12\n",
    "l=[ ( 2*pi.n()/(n-1)*i   ,   sin(2*pi.n()/(n-1)*i)  ) for i in range(n)]\n",
    "R = PolynomialRing(RR, 'x')\n",
    "L = R.lagrange_polynomial(l)\n",
    "pp=L.plot(-4,12,ymin=-2,ymax=2)+plot(sin(x),(x,0,2*pi),color='red')+point(l,color='green',size=70)\n",
    "pp.show()"
   ]
  },
  {
   "cell_type": "code",
   "execution_count": 17,
   "metadata": {
    "collapsed": false
   },
   "outputs": [
    {
     "name": "stdout",
     "output_type": "stream",
     "text": [
      "<type 'sage.symbolic.expression.Expression'>\n",
      "<type 'sage.rings.polynomial.polynomial_real_mpfr_dense.PolynomialRealDense'>\n",
      "<type 'sage.rings.polynomial.polynomial_real_mpfr_dense.PolynomialRealDense'>\n",
      "<type 'sage.rings.polynomial.polynomial_real_mpfr_dense.PolynomialRealDense'>\n"
     ]
    }
   ],
   "source": [
    "var('y')\n",
    "R.<x> = PolynomialRing(RR)\n",
    "L = R.lagrange_polynomial(l)\n",
    "print type(L(y))\n",
    "print type(L)\n",
    "print type(L(x))\n",
    "print type(x)"
   ]
  },
  {
   "cell_type": "code",
   "execution_count": 18,
   "metadata": {
    "collapsed": false
   },
   "outputs": [
    {
     "data": {
      "text/plain": [
       "0.296657159743355"
      ]
     },
     "execution_count": 18,
     "metadata": {},
     "output_type": "execute_result"
    }
   ],
   "source": [
    "var('x')\n",
    "f(x)=exp(-x)*sin(x)\n",
    "f(1.1)"
   ]
  },
  {
   "cell_type": "code",
   "execution_count": 19,
   "metadata": {
    "collapsed": false
   },
   "outputs": [
    {
     "data": {
      "image/png": "[encoded data removed]",
      "text/plain": [
       "Graphics object consisting of 3 graphics primitives"
      ]
     },
     "metadata": {},
     "output_type": "display_data"
    }
   ],
   "source": [
    "from ipywidgets import interact\n",
    "var('xx')\n",
    "f(xx)=sin(xx)\n",
    "@interact(n=(2,20),a=(0.2,5,0.2))\n",
    "def sinpoly(n,a):\n",
    "    \n",
    "    l = [ (a*2*pi.n()/(n-1)*i,exp(-0.2*a*2*pi.n()/(n-1)*i)*sin(a*2*pi.n()/(n-1)*i)) for i in range(n)]\n",
    "    R = PolynomialRing(RR, 'x')\n",
    "    L = R.lagrange_polynomial(l)\n",
    "    plt = L.plot(-4,a*2*pi+4,ymin=-1.2,ymax=1.2)+plot(exp(-0.2*x)*sin(x),(x,0,2*pi*a),color='red')+point(l,color='green',figsize=(6,3),size=70)\n",
    "    plt.show()"
   ]
  },
  {
   "cell_type": "code",
   "execution_count": 20,
   "metadata": {
    "collapsed": false
   },
   "outputs": [],
   "source": [
    "n=5\n",
    "a=1.0\n",
    "l=[ (a*2*pi.n()/(n-1)*i,f(a*2*pi.n()/(n-1)*i)) for i in range(n)]"
   ]
  },
  {
   "cell_type": "code",
   "execution_count": null,
   "metadata": {
    "collapsed": false
   },
   "outputs": [],
   "source": []
  },
  {
   "cell_type": "code",
   "execution_count": null,
   "metadata": {
    "collapsed": false
   },
   "outputs": [],
   "source": []
  },
  {
   "cell_type": "markdown",
   "metadata": {},
   "source": [
    "<h2>Metoda najmniejszych kwadratów</h2>\n",
    "<p>Cel:</p>\n",
    "<ol>\n",
    "<li>Zrozumienie podstaw metody najmniejszych kwadratów</li>\n",
    "<li>Sage: umiejętność operacji na macierzach i danych.</li>\n",
    "</ol>\n",
    "<p> </p>\n",
    "<p>Zamiast:</p>\n",
    "<p>$$  A x =  b$$</p>\n",
    "<p>rozwiązujemy</p>\n",
    "<p>$$ A^T A x = A^T b.$$</p>\n",
    "<p>Inaczej mówiąc, niech błąd:</p>\n",
    "<p>$$  r=b-A x$$</p>\n",
    "<p>leży w lewym jądrze A:</p>\n",
    "<p>$$A^T r =A^T( b-Ax) = A^T b-A^TAx = 0.$$</p>\n",
    "<p> </p>\n",
    "<p>$$ A^T A x = A^T b.$$</p>\n",
    "<ol> </ol>"
   ]
  },
  {
   "cell_type": "code",
   "execution_count": 21,
   "metadata": {
    "collapsed": false
   },
   "outputs": [],
   "source": [
    "var('x y t')\n",
    "points=[[0,1],[2,0],[3,4],[5,6]]"
   ]
  },
  {
   "cell_type": "code",
   "execution_count": 22,
   "metadata": {
    "collapsed": false
   },
   "outputs": [
    {
     "data": {
      "text/html": [
       "<div class=\"notruncate\">\n",
       "<table  class=\"table_form\">\n",
       "<tbody>\n",
       "<tr>\n",
       "<th>  <script type=\"math/tex\">A</script></th>\n",
       "<th><script type=\"math/tex\">\\cdot</script></th>\n",
       "<th><script type=\"math/tex\">c</script></th>\n",
       "<th><script type=\"math/tex\">= b</script> </th>\n",
       "</tr>\n",
       "<tr class =\"row-a\">\n",
       "<td><script type=\"math/tex\">\\left(\\begin{array}{rr}\n",
       "1 & x_{1} \\\\\n",
       "1 & x_{2} \\\\\n",
       "1 & x_{3} \\\\\n",
       "1 & x_{4}\n",
       "\\end{array}\\right)</script></td>\n",
       "<td><script type=\"math/tex\">\\cdot</script></td>\n",
       "<td><script type=\"math/tex\">\\left(\\begin{array}{r}\n",
       "c_{1} \\\\\n",
       "c_{2}\n",
       "\\end{array}\\right)</script></td>\n",
       "<td><script type=\"math/tex\">\\left(\\begin{array}{r}\n",
       "y_{1} \\\\\n",
       "y_{2} \\\\\n",
       "y_{3} \\\\\n",
       "y_{4}\n",
       "\\end{array}\\right)</script></td>\n",
       "</tr>\n",
       "<tr class =\"row-b\">\n",
       "<td><script type=\"math/tex\">\\left(\\begin{array}{rr}\n",
       "4 & x_{1} + x_{2} + x_{3} + x_{4} \\\\\n",
       "x_{1} + x_{2} + x_{3} + x_{4} & x_{1}^{2} + x_{2}^{2} + x_{3}^{2} + x_{4}^{2}\n",
       "\\end{array}\\right)</script></td>\n",
       "<td><script type=\"math/tex\">\\cdot</script></td>\n",
       "<td><script type=\"math/tex\">\\left(\\begin{array}{r}\n",
       "c_{1} \\\\\n",
       "c_{2}\n",
       "\\end{array}\\right)</script></td>\n",
       "<td><script type=\"math/tex\">\\left(\\begin{array}{r}\n",
       "y_{1} + y_{2} + y_{3} + y_{4} \\\\\n",
       "x_{1} y_{1} + x_{2} y_{2} + x_{3} y_{3} + x_{4} y_{4}\n",
       "\\end{array}\\right)</script></td>\n",
       "</tr>\n",
       "</tbody>\n",
       "</table>\n",
       "</div>"
      ],
      "text/plain": [
       "    $A$                                                                                                         $\\cdot$   $c$         $= b$\n",
       "+-------------------------------------------------------------------------------------------------------------+---------+-----------+-----------------------------------------------------------------+\n",
       "  [ 1 x1]\n",
       "[ 1 x2]\n",
       "[ 1 x3]\n",
       "[ 1 x4]                                                                               $\\cdot$   [c1]\n",
       "[c2]   [y1]\n",
       "[y2]\n",
       "[y3]\n",
       "[y4]\n",
       "  [                        4         x1 + x2 + x3 + x4]\n",
       "[        x1 + x2 + x3 + x4 x1^2 + x2^2 + x3^2 + x4^2]   $\\cdot$   [c1]\n",
       "[c2]   [            y1 + y2 + y3 + y4]\n",
       "[x1*y1 + x2*y2 + x3*y3 + x4*y4]"
      ]
     },
     "execution_count": 22,
     "metadata": {},
     "output_type": "execute_result"
    }
   ],
   "source": [
    "N=len(points)\n",
    "\n",
    "X=vector([1,x])\n",
    "M=len(X)\n",
    "\n",
    "var('x')\n",
    "xs=[]\n",
    "ys=[]\n",
    "cs=[]\n",
    "for i in range(1,N+1):\n",
    "    xs.append(var('x%d' % i))\n",
    "    ys.append(var('y%d' % i))\n",
    "for i in range(1,M+1):    \n",
    "    cs.append(var('c%d' % i))\n",
    "    \n",
    "\n",
    "A=(matrix([ X.subs(x==xx) for xx in xs] ))\n",
    "b=(vector(ys).column())\n",
    "c=(vector(cs).column())\n",
    "\n",
    "\n",
    "ATA=A.transpose()*A\n",
    "ATb=A.transpose()*b\n",
    "\n",
    "table([[\"  $A$\",\"$\\cdot$\",\"$c$\",\"$= b$ \"],[A,\"$\\cdot$\",c,b],[ATA,\"$\\cdot$\",c,ATb]],header_row=True)"
   ]
  },
  {
   "cell_type": "code",
   "execution_count": 23,
   "metadata": {
    "collapsed": false
   },
   "outputs": [
    {
     "data": {
      "text/html": [
       "<div class=\"notruncate\">\n",
       "<table  class=\"table_form\">\n",
       "<tbody>\n",
       "<tr>\n",
       "<th>x</th>\n",
       "<th>y</th>\n",
       "</tr>\n",
       "<tr class =\"row-a\">\n",
       "<td><script type=\"math/tex\">0</script></td>\n",
       "<td><script type=\"math/tex\">1</script></td>\n",
       "</tr>\n",
       "<tr class =\"row-b\">\n",
       "<td><script type=\"math/tex\">2</script></td>\n",
       "<td><script type=\"math/tex\">0</script></td>\n",
       "</tr>\n",
       "<tr class =\"row-a\">\n",
       "<td><script type=\"math/tex\">3</script></td>\n",
       "<td><script type=\"math/tex\">4</script></td>\n",
       "</tr>\n",
       "<tr class =\"row-b\">\n",
       "<td><script type=\"math/tex\">5</script></td>\n",
       "<td><script type=\"math/tex\">6</script></td>\n",
       "</tr>\n",
       "</tbody>\n",
       "</table>\n",
       "</div>"
      ],
      "text/plain": [
       "  x   y\n",
       "+---+---+\n",
       "  0   1\n",
       "  2   0\n",
       "  3   4\n",
       "  5   6"
      ]
     },
     "metadata": {},
     "output_type": "display_data"
    },
    {
     "data": {
      "image/png": "[encoded data removed]",
      "text/plain": [
       "Graphics object consisting of 1 graphics primitive"
      ]
     },
     "metadata": {},
     "output_type": "display_data"
    }
   ],
   "source": [
    "points=[[0,1],[2,0],[3,4],[5,6]]\n",
    "show(table(  [[\"x\",\"y\"]]+points, header_row=True))\n",
    "pkt_plt=point(points,size=30)\n",
    "show(pkt_plt,figsize=4)"
   ]
  },
  {
   "cell_type": "code",
   "execution_count": 24,
   "metadata": {
    "collapsed": false
   },
   "outputs": [],
   "source": [
    "Alst=[]\n",
    "blst=[]\n",
    "\n",
    "for k in range(N):\n",
    "    mk=[]\n",
    "    for j in range(M):\n",
    "        mk+=[points[k][0]^j]\n",
    "    Alst+=[mk]\n",
    "    blst+=[points[k][1]]"
   ]
  },
  {
   "cell_type": "code",
   "execution_count": 25,
   "metadata": {
    "collapsed": false
   },
   "outputs": [],
   "source": [
    "A=matrix(RDF,Alst)\n",
    "b=vector(blst)\n",
    "\n",
    "ATA=A.transpose()*A\n",
    "ATb=A.transpose()*b"
   ]
  },
  {
   "cell_type": "code",
   "execution_count": 26,
   "metadata": {
    "collapsed": false
   },
   "outputs": [
    {
     "data": {
      "text/html": [
       "<div class=\"notruncate\">\n",
       "<table  class=\"table_form\">\n",
       "<tbody>\n",
       "<tr>\n",
       "<th><script type=\"math/tex\">A</script></th>\n",
       "<th><script type=\"math/tex\">\\cdot</script></th>\n",
       "<th><script type=\"math/tex\">c</script></th>\n",
       "<th><script type=\"math/tex\">= b</script></th>\n",
       "</tr>\n",
       "<tr class =\"row-a\">\n",
       "<td><script type=\"math/tex\">\\left(\\begin{array}{rr}\n",
       "1.0 & 0.0 \\\\\n",
       "1.0 & 2.0 \\\\\n",
       "1.0 & 3.0 \\\\\n",
       "1.0 & 5.0\n",
       "\\end{array}\\right)</script></td>\n",
       "<td><script type=\"math/tex\">\\cdot</script></td>\n",
       "<td><script type=\"math/tex\">\\left(\\begin{array}{r}\n",
       "c_{1} \\\\\n",
       "c_{2}\n",
       "\\end{array}\\right)</script></td>\n",
       "<td><script type=\"math/tex\">\\left(1,\\,0,\\,4,\\,6\\right)</script></td>\n",
       "</tr>\n",
       "<tr class =\"row-b\">\n",
       "<td><script type=\"math/tex\">\\left(\\begin{array}{rr}\n",
       "4.0 & 10.0 \\\\\n",
       "10.0 & 38.0\n",
       "\\end{array}\\right)</script></td>\n",
       "<td><script type=\"math/tex\">\\cdot</script></td>\n",
       "<td><script type=\"math/tex\">\\left(\\begin{array}{r}\n",
       "c_{1} \\\\\n",
       "c_{2}\n",
       "\\end{array}\\right)</script></td>\n",
       "<td><script type=\"math/tex\">\\left(11.0,\\,42.0\\right)</script></td>\n",
       "</tr>\n",
       "</tbody>\n",
       "</table>\n",
       "</div>"
      ],
      "text/plain": [
       "  $A$                                       $\\cdot$   $c$         $= b$\n",
       "+-----------------------------------------+---------+-----------+--------------+\n",
       "  [1.0 0.0]\n",
       "[1.0 2.0]\n",
       "[1.0 3.0]\n",
       "[1.0 5.0]   $\\cdot$   [c1]\n",
       "[c2]   (1, 0, 4, 6)\n",
       "  [ 4.0 10.0]\n",
       "[10.0 38.0]                   $\\cdot$   [c1]\n",
       "[c2]   (11.0, 42.0)"
      ]
     },
     "execution_count": 26,
     "metadata": {},
     "output_type": "execute_result"
    }
   ],
   "source": [
    "table([[\"$A$\",\"$\\cdot$\",\"$c$\",\"$= b$\"],[A,\"$\\cdot$\",c,b],[ATA,\"$\\cdot$\",c,ATb]],header_row=True)"
   ]
  },
  {
   "cell_type": "code",
   "execution_count": 27,
   "metadata": {
    "collapsed": false
   },
   "outputs": [],
   "source": [
    "c=ATA\\ATb"
   ]
  },
  {
   "cell_type": "code",
   "execution_count": 28,
   "metadata": {
    "collapsed": false
   },
   "outputs": [
    {
     "data": {
      "text/plain": [
       "(-0.03846153846153797, 1.1153846153846152)"
      ]
     },
     "execution_count": 28,
     "metadata": {},
     "output_type": "execute_result"
    }
   ],
   "source": [
    "c"
   ]
  },
  {
   "cell_type": "code",
   "execution_count": 29,
   "metadata": {
    "collapsed": false
   },
   "outputs": [
    {
     "data": {
      "text/html": [
       "<html><script type=\"math/tex; mode=display\">\\newcommand{\\Bold}[1]{\\mathbf{#1}}1.11538461538 \\, x - 0.0384615384615</script></html>"
      ],
      "text/plain": [
       "1.1153846153846152*x - 0.03846153846153797"
      ]
     },
     "metadata": {},
     "output_type": "display_data"
    }
   ],
   "source": [
    "wielomian= c.dot_product( X )\n",
    "show(wielomian)"
   ]
  },
  {
   "cell_type": "code",
   "execution_count": 30,
   "metadata": {
    "collapsed": false
   },
   "outputs": [
    {
     "data": {
      "image/png": "[encoded data removed]",
      "text/plain": [
       "Graphics object consisting of 2 graphics primitives"
      ]
     },
     "execution_count": 30,
     "metadata": {},
     "output_type": "execute_result"
    }
   ],
   "source": [
    "pkt_plt+plot(wielomian, (x,0,5),color='red',thickness=2,figsize=5)"
   ]
  },
  {
   "cell_type": "markdown",
   "metadata": {},
   "source": [
    "<h2>Praktyczne stosowanie interpolacji i aproksymacji w Sage</h2>\n",
    "<h3></h3>\n",
    "<p> </p>\n",
    "<p>Zagadnienie Lagrange'a w Sage:</p>"
   ]
  },
  {
   "cell_type": "code",
   "execution_count": 31,
   "metadata": {
    "collapsed": false
   },
   "outputs": [
    {
     "data": {
      "text/html": [
       "<html><script type=\"math/tex; mode=display\">\\newcommand{\\Bold}[1]{\\mathbf{#1}}\\frac{1}{2} \\, x^{2} - \\frac{1}{2} \\, x + 1</script></html>"
      ],
      "text/plain": [
       "1/2*x^2 - 1/2*x + 1"
      ]
     },
     "metadata": {},
     "output_type": "display_data"
    }
   ],
   "source": [
    "pts=[[1,1],[2,2],[3,4]]\n",
    "R = PolynomialRing(QQ, 'x')    ### x - bedzie generatorem wielomianów nad ciałem liczb wymiernych, \n",
    "                               ### R - będzie objektem reprezentującym to ciało\n",
    "L = R.lagrange_polynomial(pts) ### interpolacja Lagrange'a jest zaimplementowana w R \n",
    "show(L(x).expand() )"
   ]
  },
  {
   "cell_type": "markdown",
   "metadata": {},
   "source": [
    "<h2>Przykład: zjawisko Rungego</h2>\n",
    "\n",
    "<p>Rozważmy funkcję:</p>"
   ]
  },
  {
   "cell_type": "code",
   "execution_count": 32,
   "metadata": {
    "collapsed": false
   },
   "outputs": [
    {
     "data": {
      "image/png": "[encoded data removed]",
      "text/plain": [
       "Graphics object consisting of 1 graphics primitive"
      ]
     },
     "execution_count": 32,
     "metadata": {},
     "output_type": "execute_result"
    }
   ],
   "source": [
    "f(x)= 1/(1+25*x^2)\n",
    "plot(f,(-1,1), figsize=4)"
   ]
  },
  {
   "cell_type": "markdown",
   "metadata": {},
   "source": [
    "Jej pochodne przyjmują duże wartości w $0$:"
   ]
  },
  {
   "cell_type": "code",
   "execution_count": 33,
   "metadata": {
    "collapsed": false
   },
   "outputs": [
    {
     "data": {
      "text/plain": [
       "[0, -50, 0, 15000, 0, -11250000]"
      ]
     },
     "execution_count": 33,
     "metadata": {},
     "output_type": "execute_result"
    }
   ],
   "source": [
    "[ diff(1/(1+25*x^2),x,i).subs({x:0}) for i in range(1,7) ]"
   ]
  },
  {
   "cell_type": "code",
   "execution_count": 102,
   "metadata": {
    "collapsed": false
   },
   "outputs": [
    {
     "data": {
      "text/plain": []
     },
     "execution_count": 102,
     "metadata": {},
     "output_type": "execute_result"
    }
   ],
   "source": []
  },
  {
   "cell_type": "code",
   "execution_count": null,
   "metadata": {
    "collapsed": false
   },
   "outputs": [],
   "source": []
  },
  {
   "cell_type": "code",
   "execution_count": 44,
   "metadata": {
    "collapsed": false
   },
   "outputs": [
    {
     "data": {
      "image/png": "[encoded data removed]",
      "text/plain": [
       "Graphics Array of size 1 x 2"
      ]
     },
     "metadata": {},
     "output_type": "display_data"
    }
   ],
   "source": [
    "@interact(n_pkt=(1,20,1))\n",
    "def inter1(n_pkt):\n",
    "    x0  = 1\n",
    "    f(x)= 1/(1+25*x^2)\n",
    "    x_bounds=(-1,1)\n",
    "    p   = plot(f,x_bounds, thickness=2)\n",
    "    \n",
    "    #n_pkt=10\n",
    "    xvals1=[cos(i/(n_pkt-1)*pi.n()) for i in range(n_pkt)]\n",
    "    xvals2=[-1+ (2*i/(n_pkt-1)).n() for i in range(n_pkt)]\n",
    "    #xvals3=[ 2*random()-1 for i in range(n_pkt) ]\n",
    "    plt=[]\n",
    "    for xvals in [xvals2,xvals1]:\n",
    "    \n",
    "        pts=[(i,QQ(f(i))) for i in xvals]\n",
    "        R = PolynomialRing(QQ, 'x')\n",
    "        L = R.lagrange_polynomial(pts)\n",
    "        L_plot = plot(L(x),x_bounds, color='green', thickness=2,figsize=4,ymin=-1,ymax=1)\n",
    "        plt.append(L_plot+p+point(pts,pointsize=40,color='red'))\n",
    "    \n",
    "    #show(table([[\"Punkty jednorodnie polozone\",\"Punkty Chebysheva\"],plt],header_row=True))\n",
    "    show(graphics_array(plt))\n",
    "    #show(plt[1])"
   ]
  },
  {
   "cell_type": "code",
   "execution_count": 95,
   "metadata": {
    "collapsed": false
   },
   "outputs": [
    {
     "data": {
      "text/plain": []
     },
     "execution_count": 95,
     "metadata": {},
     "output_type": "execute_result"
    }
   ],
   "source": []
  },
  {
   "cell_type": "code",
   "execution_count": 45,
   "metadata": {
    "collapsed": false
   },
   "outputs": [],
   "source": [
    "pts=[(1,1),(2,2),(3,4)]"
   ]
  },
  {
   "cell_type": "code",
   "execution_count": 46,
   "metadata": {
    "collapsed": false
   },
   "outputs": [
    {
     "data": {
      "text/html": [
       "<html><script type=\"math/tex; mode=display\">\\newcommand{\\Bold}[1]{\\mathbf{#1}}\\frac{1}{2} x^{2} - \\frac{1}{2} x + 1</script></html>"
      ],
      "text/plain": [
       "1/2*x^2 - 1/2*x + 1"
      ]
     },
     "metadata": {},
     "output_type": "display_data"
    }
   ],
   "source": [
    "R = PolynomialRing(QQ, 'x')\n",
    "L = R.lagrange_polynomial(pts)\n",
    "show(L)"
   ]
  },
  {
   "cell_type": "markdown",
   "metadata": {},
   "source": [
    "## divided difference"
   ]
  },
  {
   "cell_type": "code",
   "execution_count": 47,
   "metadata": {
    "collapsed": false
   },
   "outputs": [
    {
     "data": {
      "text/plain": [
       "[1, 1, 1/2]"
      ]
     },
     "execution_count": 47,
     "metadata": {},
     "output_type": "execute_result"
    }
   ],
   "source": [
    "DD=R.divided_difference(pts)\n",
    "DD"
   ]
  },
  {
   "cell_type": "code",
   "execution_count": 48,
   "metadata": {
    "collapsed": false
   },
   "outputs": [
    {
     "data": {
      "text/plain": [
       "[1, 2, 3]"
      ]
     },
     "execution_count": 48,
     "metadata": {},
     "output_type": "execute_result"
    }
   ],
   "source": [
    "xlst=map(lambda y:y[0],pts)\n",
    "xlst"
   ]
  },
  {
   "cell_type": "code",
   "execution_count": 50,
   "metadata": {
    "collapsed": false
   },
   "outputs": [
    {
     "data": {
      "text/html": [
       "<div class=\"notruncate\">\n",
       "<table  class=\"table_form\">\n",
       "<tbody>\n",
       "<tr class =\"row-a\">\n",
       "<td><script type=\"math/tex\">1</script></td>\n",
       "<td><script type=\"math/tex\">x - 1</script></td>\n",
       "<td><script type=\"math/tex\">{\\left(x - 1\\right)} {\\left(x - 2\\right)}</script></td>\n",
       "</tr>\n",
       "</tbody>\n",
       "</table>\n",
       "</div>"
      ],
      "text/plain": [
       "  1   x - 1   (x - 1)*(x - 2)"
      ]
     },
     "execution_count": 50,
     "metadata": {},
     "output_type": "execute_result"
    }
   ],
   "source": [
    "f=[1]\n",
    "for xi in xlst[:-1]:\n",
    "    f.append( f[-1]*(x-xi) )\n",
    "table(f)"
   ]
  },
  {
   "cell_type": "code",
   "execution_count": 52,
   "metadata": {
    "collapsed": false
   },
   "outputs": [
    {
     "data": {
      "text/html": [
       "<div class=\"notruncate\">\n",
       "<table  class=\"table_form\">\n",
       "<tbody>\n",
       "<tr class =\"row-a\">\n",
       "<td><script type=\"math/tex\">1</script></td>\n",
       "<td><script type=\"math/tex\">1</script></td>\n",
       "</tr>\n",
       "<tr class =\"row-b\">\n",
       "<td><script type=\"math/tex\">1</script></td>\n",
       "<td><script type=\"math/tex\">x - 1</script></td>\n",
       "</tr>\n",
       "<tr class =\"row-a\">\n",
       "<td><script type=\"math/tex\">\\frac{1}{2}</script></td>\n",
       "<td><script type=\"math/tex\">{\\left(x - 1\\right)} {\\left(x - 2\\right)}</script></td>\n",
       "</tr>\n",
       "</tbody>\n",
       "</table>\n",
       "</div>"
      ],
      "text/plain": [
       "  1     1\n",
       "  1     x - 1\n",
       "  1/2   (x - 1)*(x - 2)"
      ]
     },
     "execution_count": 52,
     "metadata": {},
     "output_type": "execute_result"
    }
   ],
   "source": [
    "table(zip(DD,f))"
   ]
  },
  {
   "cell_type": "code",
   "execution_count": 53,
   "metadata": {
    "collapsed": false
   },
   "outputs": [
    {
     "data": {
      "text/html": [
       "<html><script type=\"math/tex; mode=display\">\\newcommand{\\Bold}[1]{\\mathbf{#1}}\\frac{1}{2} \\, x^{2} - \\frac{1}{2} \\, x + 1</script></html>"
      ],
      "text/plain": [
       "1/2*x^2 - 1/2*x + 1"
      ]
     },
     "metadata": {},
     "output_type": "display_data"
    }
   ],
   "source": [
    "sum([dd*f_ for dd,f_ in zip(DD,f)]).expand().show()"
   ]
  },
  {
   "cell_type": "code",
   "execution_count": 54,
   "metadata": {
    "collapsed": false
   },
   "outputs": [
    {
     "data": {
      "text/html": [
       "<html><script type=\"math/tex; mode=display\">\\newcommand{\\Bold}[1]{\\mathbf{#1}}\\frac{1}{2} \\, x^{2} - \\frac{1}{2} \\, x + 1</script></html>"
      ],
      "text/plain": [
       "1/2*x^2 - 1/2*x + 1"
      ]
     },
     "metadata": {},
     "output_type": "display_data"
    }
   ],
   "source": [
    "DD=vector(DD)\n",
    "f=vector(f)\n",
    "f.dot_product(DD).expand().show()"
   ]
  },
  {
   "cell_type": "code",
   "execution_count": 55,
   "metadata": {
    "collapsed": false
   },
   "outputs": [
    {
     "data": {
      "text/plain": [
       "[1, 2]"
      ]
     },
     "execution_count": 55,
     "metadata": {},
     "output_type": "execute_result"
    }
   ],
   "source": [
    "xlst[:-1]"
   ]
  },
  {
   "cell_type": "code",
   "execution_count": 91,
   "metadata": {
    "collapsed": false
   },
   "outputs": [
    {
     "data": {
      "text/plain": []
     },
     "execution_count": 91,
     "metadata": {},
     "output_type": "execute_result"
    }
   ],
   "source": []
  },
  {
   "cell_type": "code",
   "execution_count": 86,
   "metadata": {
    "collapsed": false
   },
   "outputs": [
    {
     "data": {
      "text/plain": []
     },
     "execution_count": 86,
     "metadata": {},
     "output_type": "execute_result"
    }
   ],
   "source": []
  },
  {
   "cell_type": "code",
   "execution_count": 53,
   "metadata": {
    "collapsed": false
   },
   "outputs": [
    {
     "data": {
      "text/plain": []
     },
     "execution_count": 53,
     "metadata": {},
     "output_type": "execute_result"
    }
   ],
   "source": []
  },
  {
   "cell_type": "markdown",
   "metadata": {},
   "source": [
    "<h2>Praktyczne stosowanie  regresji liniowej</h2>\n",
    "<h3>find_fit - używa pakietu scipy.optimize</h3>\n",
    "<p> </p>"
   ]
  },
  {
   "cell_type": "code",
   "execution_count": 51,
   "metadata": {
    "collapsed": false
   },
   "outputs": [
    {
     "data": {
      "text/plain": []
     },
     "execution_count": 51,
     "metadata": {},
     "output_type": "execute_result"
    }
   ],
   "source": []
  },
  {
   "cell_type": "code",
   "execution_count": 56,
   "metadata": {
    "collapsed": false
   },
   "outputs": [
    {
     "data": {
      "text/plain": [
       "{b: -0.0384615384638034, a: 1.115384615384867}"
      ]
     },
     "execution_count": 56,
     "metadata": {},
     "output_type": "execute_result"
    }
   ],
   "source": [
    "var('a,b,c')\n",
    "model(x) = a*x+b\n",
    "fit = find_fit(points,model,solution_dict=True)\n",
    "fit"
   ]
  },
  {
   "cell_type": "code",
   "execution_count": 57,
   "metadata": {
    "collapsed": false
   },
   "outputs": [
    {
     "data": {
      "text/plain": [
       "x |--> 1.115384615384867*x - 0.0384615384638034"
      ]
     },
     "execution_count": 57,
     "metadata": {},
     "output_type": "execute_result"
    }
   ],
   "source": [
    "model.subs(fit)"
   ]
  },
  {
   "cell_type": "code",
   "execution_count": 58,
   "metadata": {
    "collapsed": false
   },
   "outputs": [
    {
     "data": {
      "image/png": "[encoded data removed]",
      "text/plain": [
       "Graphics object consisting of 2 graphics primitives"
      ]
     },
     "execution_count": 58,
     "metadata": {},
     "output_type": "execute_result"
    }
   ],
   "source": [
    "point(points)+plot(model.subs(fit),(x,0,10),color='red',figsize=5)"
   ]
  },
  {
   "cell_type": "code",
   "execution_count": 63,
   "metadata": {
    "collapsed": false
   },
   "outputs": [
    {
     "data": {
      "text/plain": []
     },
     "execution_count": 63,
     "metadata": {},
     "output_type": "execute_result"
    }
   ],
   "source": []
  },
  {
   "cell_type": "markdown",
   "metadata": {},
   "source": [
    "<h3>Splajny (GSL)</h3>"
   ]
  },
  {
   "cell_type": "code",
   "execution_count": 59,
   "metadata": {
    "collapsed": false
   },
   "outputs": [
    {
     "data": {
      "image/png": "[encoded data removed]",
      "text/plain": [
       "Graphics object consisting of 2 graphics primitives"
      ]
     },
     "metadata": {},
     "output_type": "display_data"
    },
    {
     "data": {
      "text/plain": [
       "[[0, 1], [2, 0], [3, 4], [5, 6]]"
      ]
     },
     "execution_count": 59,
     "metadata": {},
     "output_type": "execute_result"
    }
   ],
   "source": [
    "s = spline(points)\n",
    "show(point(points) + plot(s,1,3, hue=.8,figsize=5))\n",
    "s.list()"
   ]
  },
  {
   "cell_type": "code",
   "execution_count": 60,
   "metadata": {
    "collapsed": false
   },
   "outputs": [
    {
     "data": {
      "text/plain": [
       "[[0, 1], [2, 0], [3, 4], [5, 6]]"
      ]
     },
     "execution_count": 60,
     "metadata": {},
     "output_type": "execute_result"
    }
   ],
   "source": [
    "points"
   ]
  },
  {
   "cell_type": "code",
   "execution_count": 61,
   "metadata": {
    "collapsed": false
   },
   "outputs": [
    {
     "data": {
      "image/png": "[encoded data removed]",
      "text/plain": [
       "Graphics object consisting of 2 graphics primitives"
      ]
     },
     "metadata": {},
     "output_type": "display_data"
    },
    {
     "data": {
      "text/plain": [
       "[(0, 1),\n",
       " (1/2*sin(1) + 1, cos(1) + 1),\n",
       " (1/2*sin(2) + 2, cos(4) + 2),\n",
       " (1/2*sin(3) + 3, cos(9) + 3),\n",
       " (1/2*sin(4) + 4, cos(16) + 4),\n",
       " (1/2*sin(5) + 5, cos(25) + 5),\n",
       " (1/2*sin(6) + 6, cos(36) + 6),\n",
       " (1/2*sin(7) + 7, cos(49) + 7),\n",
       " (1/2*sin(8) + 8, cos(64) + 8),\n",
       " (1/2*sin(9) + 9, cos(81) + 9)]"
      ]
     },
     "execution_count": 61,
     "metadata": {},
     "output_type": "execute_result"
    }
   ],
   "source": [
    "v = [(i + sin(i)/2, i+cos(i^2)) for i in range(10)]\n",
    "s = spline(v)\n",
    "show(point(v) + plot(s,0,9, hue=.8,figsize=5))\n",
    "s.list()"
   ]
  },
  {
   "cell_type": "markdown",
   "metadata": {},
   "source": [
    "<h3>Bezier</h3>"
   ]
  },
  {
   "cell_type": "code",
   "execution_count": 62,
   "metadata": {
    "collapsed": false
   },
   "outputs": [
    {
     "data": {
      "image/png": "[encoded data removed]",
      "text/plain": [
       "Graphics object consisting of 2 graphics primitives"
      ]
     },
     "execution_count": 62,
     "metadata": {},
     "output_type": "execute_result"
    }
   ],
   "source": [
    "pts=[(0,0),(.15,.1),(0.7,1.6),(1,0)]\n",
    "path = [pts]\n",
    "curve = bezier_path(path, linestyle='dashed', rgbcolor='green',figsize=5)\n",
    "curve+point(pts)"
   ]
  },
  {
   "cell_type": "code",
   "execution_count": null,
   "metadata": {
    "collapsed": false
   },
   "outputs": [],
   "source": []
  },
  {
   "cell_type": "code",
   "execution_count": 63,
   "metadata": {
    "collapsed": false
   },
   "outputs": [],
   "source": [
    "spline?"
   ]
  },
  {
   "cell_type": "code",
   "execution_count": 116,
   "metadata": {
    "collapsed": false
   },
   "outputs": [
    {
     "data": {
      "text/plain": []
     },
     "execution_count": 116,
     "metadata": {},
     "output_type": "execute_result"
    }
   ],
   "source": []
  }
 ],
 "metadata": {
  "kernelspec": {
   "display_name": "SageMath 7.3",
   "language": "",
   "name": "sagemath"
  },
  "language": "python",
  "language_info": {
   "codemirror_mode": {
    "name": "ipython",
    "version": 2
   },
   "file_extension": ".py",
   "mimetype": "text/x-python",
   "name": "python",
   "nbconvert_exporter": "python",
   "pygments_lexer": "ipython2",
   "version": "2.7.10"
  }
 },
 "nbformat": 4,
 "nbformat_minor": 1
}
