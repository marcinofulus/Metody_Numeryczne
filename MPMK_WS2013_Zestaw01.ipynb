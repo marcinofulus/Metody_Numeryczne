{
 "cells": [
  {
   "cell_type": "markdown",
   "metadata": {},
   "source": [
    "<h3>Zadanie 1</h3>\n",
    "<p>Z danej listy liczb losowych, wybrać te, które są większe od 0.45.</p>\n",
    "<p><em>Uwaga: zadanie nie precyzuje  czy mamy je wypisać na ekranie czy też zrobić nową listę. Taki brak doprecyzowania należy wykorzystać na swoją korzyść!</em></p>"
   ]
  },
  {
   "cell_type": "code",
   "execution_count": 1,
   "metadata": {
    "collapsed": false
   },
   "outputs": [
    {
     "data": {
      "text/plain": [
       "[0.06621353491279458,\n",
       " 0.5112165879352132,\n",
       " 0.16695082338140776,\n",
       " 0.013327541976521973,\n",
       " 0.21873073281425293,\n",
       " 0.8668793271999348,\n",
       " 0.06808061646854036,\n",
       " 0.6569723319304188,\n",
       " 0.8242051176521897,\n",
       " 0.8870464826106993]"
      ]
     },
     "execution_count": 1,
     "metadata": {},
     "output_type": "execute_result"
    }
   ],
   "source": [
    "l = [random() for i in range(10)]\n",
    "l"
   ]
  },
  {
   "cell_type": "code",
   "execution_count": 30,
   "metadata": {
    "collapsed": false
   },
   "outputs": [
    {
     "data": {
      "text/plain": []
     },
     "execution_count": 30,
     "metadata": {},
     "output_type": "execute_result"
    }
   ],
   "source": []
  },
  {
   "cell_type": "markdown",
   "metadata": {},
   "source": [
    "<h3>Zadanie 2</h3>\n",
    "<p>Wykorzystując funkcje \"enumerate\" i pętlę for, wypisać elementy powyższej listy, od piątego do siódmego, włącznie. </p>"
   ]
  },
  {
   "cell_type": "code",
   "execution_count": 13,
   "metadata": {
    "collapsed": false
   },
   "outputs": [
    {
     "data": {
      "text/plain": []
     },
     "execution_count": 13,
     "metadata": {},
     "output_type": "execute_result"
    }
   ],
   "source": []
  },
  {
   "cell_type": "markdown",
   "metadata": {},
   "source": [
    "<h3>Zadanie 3</h3>\n",
    "<p>Napisać funkcję, która sprawdza czy liczba całkowita jest parzysta. Jeśli tak to wypisuje \"parzysta\" a jeśli nie to nieparzysta. Skorzystać z dzielenia modulo \"%\":</p>"
   ]
  },
  {
   "cell_type": "code",
   "execution_count": 2,
   "metadata": {
    "collapsed": false
   },
   "outputs": [
    {
     "name": "stdout",
     "output_type": "stream",
     "text": [
      "0 1\n"
     ]
    }
   ],
   "source": [
    "print 6%2,7%2"
   ]
  },
  {
   "cell_type": "markdown",
   "metadata": {},
   "source": [
    "<h3>Zadanie 4</h3>\n",
    "<p>Wygenerować  listę 100 elementów, których wartości opisane są następującym wzorem:</p>\n",
    "<p style=\"padding-left: 30px;\">$w(i) = -i^2 + 50\\cdot i +1$</p>"
   ]
  },
  {
   "cell_type": "code",
   "execution_count": 3,
   "metadata": {
    "collapsed": false
   },
   "outputs": [
    {
     "name": "stdout",
     "output_type": "stream",
     "text": [
      "9\n"
     ]
    }
   ],
   "source": [
    "d = range(3,30,3)\n",
    "print len(d)"
   ]
  },
  {
   "cell_type": "markdown",
   "metadata": {},
   "source": [
    "### Zadanie 5\n",
    "\n",
    "Niech lista o długości 100 elementów i dowolnych wartościach reprezentuje wektor. Napisz funkcję liczącą  jego normy:\n",
    " - $s_1 = ||x||_1 = \\sum{i=1}^{N} |x_i|$\n",
    " - $s_2 = ||x||_2 = \\sqrt{\\sum_{i=1}^{N} x{_i}^2}$"
   ]
  },
  {
   "cell_type": "code",
   "execution_count": 4,
   "metadata": {
    "collapsed": false
   },
   "outputs": [
    {
     "data": {
      "text/plain": [
       "(5, 2)"
      ]
     },
     "execution_count": 4,
     "metadata": {},
     "output_type": "execute_result"
    }
   ],
   "source": [
    "abs(-5),sqrt(4)"
   ]
  },
  {
   "cell_type": "markdown",
   "metadata": {},
   "source": [
    "### Zadanie 6 - Problem Collatza.\n",
    "<p>Weźmy dowolną <a style=\"color: #0b0080; background-image: none;\" title=\"Liczby naturalne\" href=\"http://pl.wikipedia.org/wiki/Liczby_naturalne\">liczbę naturalną</a> c<sub>0</sub> (większą od 0). Jeśli jest ona parzysta, to za c<sub>1</sub> przyjmijmy c<sub>0</sub>/2, w przeciwnym wypadku niech c<sub>1</sub>=3c<sub>0</sub> + 1. Następnie, z liczbą c<sub>1</sub>postępujemy podobnie jak z c<sub>0</sub> i kontynuujemy ten proces. Otrzymamy w ten sposób ciąg liczb naturalnych określony rekurencyjnie przez formułę</p>\n",
    "<p>$$ c_{n+1} = \\begin{cases}   \\frac{1}{2}c_n  & \\mbox{gdy } c_n  \\mbox{ jest parzysta}\\\\   3c_n + 1           & \\mbox{gdy } c_n \\mbox{ jest nieparzysta} \\end{cases} $$</p>\n",
    "<p>lub</p>\n",
    "<p>$${c_{n+1}} = \\frac{1}{2}{c_{n}} - \\frac{1}{4}(5c_{n}+2)((-1)^{c_{n}}-1)$$</p>\n",
    "<p style=\"margin: 0.4em 0px 0.5em; line-height: 20.399999618530273px; font-family: sans-serif; font-size: 13.600000381469727px;\"><a style=\"color: #0b0080; background-image: none;\" title=\"Hipoteza\" href=\"http://pl.wikipedia.org/wiki/Hipoteza\">Hipoteza</a> Collatza stwierdza, że niezależnie od jakiej liczby $c_0$ wystartujemy, w końcu dojdziemy do liczby 1.</p>\n",
    "<p>Napisz funkcję która jako parametr przyjmie liczbę naturalną $c_0 \\in [1, 10000]$ i wypisze wszystkie elementy ciągu.</p>"
   ]
  },
  {
   "cell_type": "code",
   "execution_count": 38,
   "metadata": {
    "collapsed": false
   },
   "outputs": [
    {
     "data": {
      "text/plain": []
     },
     "execution_count": 38,
     "metadata": {},
     "output_type": "execute_result"
    }
   ],
   "source": []
  },
  {
   "cell_type": "markdown",
   "metadata": {},
   "source": [
    "<h3>Zadanie 7</h3>\n",
    "<p>Napisać funkcję sprawdzającą poprawność sumy kontrolnej PESEL.</p>\n",
    "<p><em>Wskazówki</em>:</p>\n",
    "<ol>\n",
    "<li><em>Sprawdzić w np. Wikipedii jak tworzona jest ta suma kontrolna?</em></li>\n",
    "<li><em>Dotstęp do i-tego elementu listy <span style=\"font-family: 'courier new', courier;\">l</span> jest realizowany przez <span style=\"font-family: 'courier new', courier;\">l[i]</span>.</em></li>\n",
    "<li><em>Przyjrzeć się operacjom poniżej:</em></li>\n",
    "</ol>"
   ]
  },
  {
   "cell_type": "code",
   "execution_count": 5,
   "metadata": {
    "collapsed": false
   },
   "outputs": [
    {
     "name": "stdout",
     "output_type": "stream",
     "text": [
      "12345  -> jej reprezentacja jako ciąg znaków:  12345\n",
      "trzeca cyfra:  3\n",
      "Ciąg znaków jako liczba:  123\n",
      "12345123\n",
      "12468\n"
     ]
    }
   ],
   "source": [
    "liczba=12345\n",
    "liczba_str=str(liczba)\n",
    "\n",
    "print liczba, ' -> jej reprezentacja jako ciąg znaków: ',liczba_str\n",
    "print 'trzeca cyfra: ', liczba_str[2]\n",
    "\n",
    "ciag_znakow='123'\n",
    "\n",
    "print \"Ciąg znaków jako liczba: \",int(ciag_znakow)\n",
    "print liczba_str+ciag_znakow\n",
    "print int(liczba_str)+int(ciag_znakow)"
   ]
  },
  {
   "cell_type": "markdown",
   "metadata": {},
   "source": [
    "<p>Reasumując trzecią cyfrę liczby możemy otrzymać w następujący sposób. Proszę pamiętać, że liczymy od zera:</p>"
   ]
  },
  {
   "cell_type": "code",
   "execution_count": 6,
   "metadata": {
    "collapsed": false
   },
   "outputs": [
    {
     "name": "stdout",
     "output_type": "stream",
     "text": [
      "trzecia cyfra 12345  to  3\n"
     ]
    }
   ],
   "source": [
    "liczba=12345\n",
    "print \"trzecia cyfra\", liczba ,\" to \", int(str(liczba)[2])"
   ]
  },
  {
   "cell_type": "code",
   "execution_count": 7,
   "metadata": {
    "collapsed": false
   },
   "outputs": [],
   "source": [
    "c  = [1,3,7,9,1,3,7,9,1,3]"
   ]
  },
  {
   "cell_type": "code",
   "execution_count": 42,
   "metadata": {
    "collapsed": false
   },
   "outputs": [
    {
     "data": {
      "text/plain": []
     },
     "execution_count": 42,
     "metadata": {},
     "output_type": "execute_result"
    }
   ],
   "source": []
  }
 ],
 "metadata": {
  "kernelspec": {
   "display_name": "SageMath 7.3",
   "language": "",
   "name": "sagemath"
  },
  "language": "python",
  "language_info": {
   "codemirror_mode": {
    "name": "ipython",
    "version": 2
   },
   "file_extension": ".py",
   "mimetype": "text/x-python",
   "name": "python",
   "nbconvert_exporter": "python",
   "pygments_lexer": "ipython2",
   "version": "2.7.10"
  }
 },
 "nbformat": 4,
 "nbformat_minor": 1
}
