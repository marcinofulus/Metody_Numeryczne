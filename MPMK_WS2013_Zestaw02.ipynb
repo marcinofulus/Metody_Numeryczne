{
 "cells": [
  {
   "cell_type": "code",
   "execution_count": 29,
   "metadata": {
    "collapsed": false
   },
   "outputs": [
    {
     "data": {
      "text/plain": []
     },
     "execution_count": 29,
     "metadata": {},
     "output_type": "execute_result"
    }
   ],
   "source": []
  },
  {
   "cell_type": "markdown",
   "metadata": {},
   "source": [
    "# Zestaw 2, listy i proste algorytmy\n",
    "\n",
    "### Zadanie 1\n",
    "Napisać algorytm, który sprawdza czy dwa odcinki na płaszczyźnie się przecinają. Odcinki są dane przez współrzędne ich końców, np.: [(0,1),(3,4)]."
   ]
  },
  {
   "cell_type": "code",
   "execution_count": 13,
   "metadata": {
    "collapsed": false
   },
   "outputs": [
    {
     "data": {
      "text/plain": []
     },
     "execution_count": 13,
     "metadata": {},
     "output_type": "execute_result"
    }
   ],
   "source": []
  },
  {
   "cell_type": "markdown",
   "metadata": {},
   "source": [
    "<h2>Zadanie 2</h2>\n",
    "<p>Napisać funkcję generującą <a href=\"http://pl.wikipedia.org/wiki/Macierz_Hilberta\" target=\"_blank\">macierz Hilberta</a>, dowolnego stopnia.</p>\n",
    "<p>Macierze mogą być inicjalizowane funkcją <span style=\"font-family: 'courier new', courier;\">matrix</span>, która przyjmuje elementy w postaci listy wierszy. Np.:</p>"
   ]
  },
  {
   "cell_type": "code",
   "execution_count": 1,
   "metadata": {
    "collapsed": false
   },
   "outputs": [
    {
     "data": {
      "text/html": [
       "<html><script type=\"math/tex; mode=display\">\\newcommand{\\Bold}[1]{\\mathbf{#1}}\\left(\\begin{array}{rr}\n",
       "1 & 2 \\\\\n",
       "2 & 2 \\\\\n",
       "22 & 33\n",
       "\\end{array}\\right)</script></html>"
      ],
      "text/plain": [
       "[ 1  2]\n",
       "[ 2  2]\n",
       "[22 33]"
      ]
     },
     "metadata": {},
     "output_type": "display_data"
    }
   ],
   "source": [
    "wiersze  = [[1,2], [2,2], [22,33] ]\n",
    "show(matrix(wiersze))"
   ]
  },
  {
   "cell_type": "markdown",
   "metadata": {},
   "source": [
    "<h3>Zadanie 3</h3>\n",
    "<p>Jednym ze sposobów tworzenia listy jest dodawanie do niej elementów metodą <span style=\"font-family: 'courier new', courier;\">append</span>, np.:</p>"
   ]
  },
  {
   "cell_type": "code",
   "execution_count": 2,
   "metadata": {
    "collapsed": false
   },
   "outputs": [
    {
     "name": "stdout",
     "output_type": "stream",
     "text": [
      "[12, 'd']\n"
     ]
    }
   ],
   "source": [
    "l = []\n",
    "l.append( 12 )\n",
    "l.append( \"d\")\n",
    "print l"
   ]
  },
  {
   "cell_type": "markdown",
   "metadata": {},
   "source": [
    "<p>Wykorzystując ta metodę utworzyć listę liczb naturalnych, od 5 do 10 włacznie.</p>"
   ]
  },
  {
   "cell_type": "code",
   "execution_count": 20,
   "metadata": {
    "collapsed": false
   },
   "outputs": [
    {
     "data": {
      "text/plain": []
     },
     "execution_count": 20,
     "metadata": {},
     "output_type": "execute_result"
    }
   ],
   "source": []
  },
  {
   "cell_type": "markdown",
   "metadata": {},
   "source": [
    "<h2>Zadanie 4</h2>\n",
    "<p>Wygenerować listę liczb:</p>\n",
    "<ul>\n",
    "<li>od -5 do 10, z krokiem 0.12</li>\n",
    "<li>25-ciu liczb na odcinku (-5,10) z wartościami brzegowymi włącznie, równooddalonych od siebie.</li>\n",
    "</ul>\n",
    "<p> </p>"
   ]
  },
  {
   "cell_type": "code",
   "execution_count": 30,
   "metadata": {
    "collapsed": false
   },
   "outputs": [
    {
     "data": {
      "text/plain": []
     },
     "execution_count": 30,
     "metadata": {},
     "output_type": "execute_result"
    }
   ],
   "source": []
  },
  {
   "cell_type": "markdown",
   "metadata": {},
   "source": [
    "<h3>Zadanie 5</h3>\n",
    "<p>Elemtentami listy może być wszystko. Z drugiej strony wykres, jest objektem:</p>\n",
    "<p> </p>"
   ]
  },
  {
   "cell_type": "code",
   "execution_count": 3,
   "metadata": {
    "collapsed": false
   },
   "outputs": [
    {
     "data": {
      "image/png": "[encoded data removed]",
      "text/plain": [
       "Graphics object consisting of 1 graphics primitive"
      ]
     },
     "metadata": {},
     "output_type": "display_data"
    }
   ],
   "source": [
    "p = plot(sin(x),(x,1,11),figsize=2)\n",
    "p.show()\n",
    "p.save(\"1.pdf\")"
   ]
  },
  {
   "cell_type": "code",
   "execution_count": 4,
   "metadata": {
    "collapsed": false
   },
   "outputs": [],
   "source": [
    "p2 = plot(cos(x),(x,1,11),color='red')"
   ]
  },
  {
   "cell_type": "markdown",
   "metadata": {},
   "source": [
    "<p>Wykresy można dodawać:</p>"
   ]
  },
  {
   "cell_type": "code",
   "execution_count": 5,
   "metadata": {
    "collapsed": false
   },
   "outputs": [
    {
     "data": {
      "image/png": "[encoded data removed]",
      "text/plain": [
       "Graphics object consisting of 2 graphics primitives"
      ]
     },
     "metadata": {},
     "output_type": "display_data"
    }
   ],
   "source": [
    "p3 = p + p2\n",
    "p3.show()"
   ]
  },
  {
   "cell_type": "markdown",
   "metadata": {},
   "source": [
    "<p>Utworzyć listę dziesięciu wykresów o rozmiarze 3cm, które przedstawiają funkcję $f(x) = \\sin(x-a)$, dla $a\\in(0,\\pi)$</p>\n",
    "<p>Wypróbować funkcję animate(lista_wykresow).</p>\n",
    "<p> </p>\n",
    "\n",
    "<h2>Zadanie 6</h2>\n",
    "<p>Sprawdzić, czy szereg $$ \\sum_{n=0}^\\infty \\frac{x^n}{n!}$$ zbiega się do $e^x$, obliczając jego sumę dla dużych $n$. </p>"
   ]
  },
  {
   "cell_type": "code",
   "execution_count": 27,
   "metadata": {
    "collapsed": false
   },
   "outputs": [
    {
     "data": {
      "text/plain": []
     },
     "execution_count": 27,
     "metadata": {},
     "output_type": "execute_result"
    }
   ],
   "source": []
  },
  {
   "cell_type": "markdown",
   "metadata": {},
   "source": [
    "<h3>Przykład 1</h3>\n",
    "<p>Emach</p>"
   ]
  },
  {
   "cell_type": "code",
   "execution_count": 6,
   "metadata": {
    "collapsed": false
   },
   "outputs": [
    {
     "data": {
      "text/plain": [
       "True"
      ]
     },
     "execution_count": 6,
     "metadata": {},
     "output_type": "execute_result"
    }
   ],
   "source": [
    "1.0 == 1.0+1e-16"
   ]
  },
  {
   "cell_type": "code",
   "execution_count": 8,
   "metadata": {
    "collapsed": false
   },
   "outputs": [
    {
     "name": "stdout",
     "output_type": "stream",
     "text": [
      "53 1.11022302463e-16\n"
     ]
    }
   ],
   "source": [
    "%%python \n",
    "x = 1.0\n",
    "for i in range(120):\n",
    "    if 1.0 == 1.0+x:\n",
    "        print i,x\n",
    "        break\n",
    "    x = x/2"
   ]
  },
  {
   "cell_type": "markdown",
   "metadata": {},
   "source": [
    "<p>Dowolna precyzja w Sage</p>"
   ]
  },
  {
   "cell_type": "code",
   "execution_count": 9,
   "metadata": {
    "collapsed": false
   },
   "outputs": [
    {
     "name": "stdout",
     "output_type": "stream",
     "text": [
      "Mantysa x jest =  67  bitowa\n",
      "67 6.776263578034402713e-21\n"
     ]
    },
    {
     "data": {
      "text/plain": [
       "67"
      ]
     },
     "execution_count": 9,
     "metadata": {},
     "output_type": "execute_result"
    }
   ],
   "source": [
    "R = RealField(67)\n",
    "x = R(1.0)\n",
    "print \"Mantysa x jest = \",x.prec(),\" bitowa\"\n",
    "for i in range(120):\n",
    "    if R(1.0) == R(1.0)+x:\n",
    "        print i,x\n",
    "        break\n",
    "    x = x/2\n",
    "    \n",
    "(1/2*R(1.23)).prec()"
   ]
  },
  {
   "cell_type": "markdown",
   "metadata": {},
   "source": [
    "<h2>Dodatek.</h2>\n",
    "<p>Poprawa funkcja generująca ciąg liczb wg. reguły Collatza. </p>"
   ]
  },
  {
   "cell_type": "code",
   "execution_count": 26,
   "metadata": {
    "collapsed": false
   },
   "outputs": [
    {
     "data": {
      "text/plain": []
     },
     "execution_count": 26,
     "metadata": {},
     "output_type": "execute_result"
    }
   ],
   "source": []
  },
  {
   "cell_type": "code",
   "execution_count": 25,
   "metadata": {
    "collapsed": false
   },
   "outputs": [
    {
     "data": {
      "text/plain": []
     },
     "execution_count": 25,
     "metadata": {},
     "output_type": "execute_result"
    }
   ],
   "source": []
  },
  {
   "cell_type": "code",
   "execution_count": 10,
   "metadata": {
    "collapsed": false
   },
   "outputs": [
    {
     "name": "stdout",
     "output_type": "stream",
     "text": [
      "625 loops, best of 3: 346 µs per loop\n"
     ]
    }
   ],
   "source": [
    "def Collatz2(x=120):\n",
    "    \"\"\"\n",
    "funkcja obliczajaca ciagi liczb wystepujacych w hipotezie Collatza\n",
    "    \"\"\"\n",
    "    for i in range(1000):\n",
    "        if x%2 == 0:\n",
    "            x=(x/2)\n",
    "        else:\n",
    "            if x%2 != 0:\n",
    "                x=(3*(x)+1)\n",
    "        \n",
    "        if x==1:\n",
    "            return i+1\n",
    "        \n",
    "    return 1000\n",
    "    \n",
    "timeit('Collatz2(2120)')"
   ]
  },
  {
   "cell_type": "code",
   "execution_count": 4,
   "metadata": {
    "collapsed": false
   },
   "outputs": [
    {
     "data": {
      "text/plain": []
     },
     "execution_count": 4,
     "metadata": {},
     "output_type": "execute_result"
    }
   ],
   "source": []
  },
  {
   "cell_type": "code",
   "execution_count": 11,
   "metadata": {
    "collapsed": false
   },
   "outputs": [],
   "source": [
    "%%cython \n",
    "\n",
    "def Collatz(long x=120):\n",
    "    cdef long long i\n",
    "    for i in range(1000000):\n",
    "        if x%2 == 0:\n",
    "            x=(x/2)\n",
    "        else:\n",
    "            if x%2 != 0:\n",
    "                x=(3*(x)+1)\n",
    "        \n",
    "        if x==1:\n",
    "            return i+1\n",
    "        \n",
    "    return 666"
   ]
  },
  {
   "cell_type": "code",
   "execution_count": 12,
   "metadata": {
    "collapsed": false
   },
   "outputs": [
    {
     "name": "stdout",
     "output_type": "stream",
     "text": [
      "625 loops, best of 3: 669 ns per loop\n"
     ]
    }
   ],
   "source": [
    "timeit('Collatz(2120)')"
   ]
  },
  {
   "cell_type": "code",
   "execution_count": 13,
   "metadata": {
    "collapsed": false
   },
   "outputs": [
    {
     "name": "stdout",
     "output_type": "stream",
     "text": [
      "CPU times: user 0 ns, sys: 0 ns, total: 0 ns\n",
      "Wall time: 5.96 µs\n"
     ]
    }
   ],
   "source": [
    "%time \n",
    "c = [ (i,Collatz(i)) for i in range(10000000,11000000)]"
   ]
  },
  {
   "cell_type": "code",
   "execution_count": 19,
   "metadata": {
    "collapsed": false
   },
   "outputs": [
    {
     "data": {
      "text/plain": [
       "([(10000000, 145),\n",
       "  (10000001, 114),\n",
       "  (10000002, 137),\n",
       "  (10000003, 137),\n",
       "  (10000004, 163),\n",
       "  (10000005, 163),\n",
       "  (10000006, 163),\n",
       "  (10000007, 132),\n",
       "  (10000008, 176),\n",
       "  (10000009, 220),\n",
       "  (10000010, 176)],\n",
       " 1000000)"
      ]
     },
     "execution_count": 19,
     "metadata": {},
     "output_type": "execute_result"
    }
   ],
   "source": [
    "c[:11],len(c)"
   ]
  },
  {
   "cell_type": "code",
   "execution_count": 20,
   "metadata": {
    "collapsed": false
   },
   "outputs": [
    {
     "name": "stdout",
     "output_type": "stream",
     "text": [
      "CPU times: user 356 ms, sys: 16 ms, total: 372 ms\n",
      "Wall time: 393 ms\n"
     ]
    },
    {
     "data": {
      "image/png": "[encoded data removed]",
      "text/plain": [
       "Graphics object consisting of 1 graphics primitive"
      ]
     },
     "execution_count": 20,
     "metadata": {},
     "output_type": "execute_result"
    }
   ],
   "source": [
    "%%time\n",
    "%point2d(c,alpha=0.1,size=1)"
   ]
  },
  {
   "cell_type": "code",
   "execution_count": 25,
   "metadata": {
    "collapsed": false
   },
   "outputs": [
    {
     "name": "stdout",
     "output_type": "stream",
     "text": [
      "903\n",
      "CPU times: user 3.4 s, sys: 8 ms, total: 3.41 s\n",
      "Wall time: 3.39 s\n"
     ]
    }
   ],
   "source": [
    "%%time\n",
    "max_i = 0\n",
    "bigN = 10**18\n",
    "for i in range(bigN,bigN+10000):\n",
    "    max_i = max([Collatz(i),max_i])\n",
    "    \n",
    "print max_i"
   ]
  },
  {
   "cell_type": "code",
   "execution_count": 9,
   "metadata": {
    "collapsed": false
   },
   "outputs": [
    {
     "data": {
      "text/plain": []
     },
     "execution_count": 9,
     "metadata": {},
     "output_type": "execute_result"
    }
   ],
   "source": []
  },
  {
   "cell_type": "code",
   "execution_count": 10,
   "metadata": {
    "collapsed": false
   },
   "outputs": [
    {
     "data": {
      "text/plain": []
     },
     "execution_count": 10,
     "metadata": {},
     "output_type": "execute_result"
    }
   ],
   "source": []
  }
 ],
 "metadata": {
  "kernelspec": {
   "display_name": "SageMath 7.3",
   "language": "",
   "name": "sagemath"
  },
  "language": "python",
  "language_info": {
   "codemirror_mode": {
    "name": "ipython",
    "version": 2
   },
   "file_extension": ".py",
   "mimetype": "text/x-python",
   "name": "python",
   "nbconvert_exporter": "python",
   "pygments_lexer": "ipython2",
   "version": "2.7.10"
  }
 },
 "nbformat": 4,
 "nbformat_minor": 1
}
